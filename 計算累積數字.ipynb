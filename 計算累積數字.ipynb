{
  "nbformat": 4,
  "nbformat_minor": 0,
  "metadata": {
    "colab": {
      "provenance": [],
      "authorship_tag": "ABX9TyO6IFbozT768t7IS7b9aB/O",
      "include_colab_link": true
    },
    "kernelspec": {
      "name": "python3",
      "display_name": "Python 3"
    },
    "language_info": {
      "name": "python"
    }
  },
  "cells": [
    {
      "cell_type": "markdown",
      "metadata": {
        "id": "view-in-github",
        "colab_type": "text"
      },
      "source": [
        "<a href=\"https://colab.research.google.com/github/Albee39/Albee39/blob/main/%E8%A8%88%E7%AE%97%E7%B4%AF%E7%A9%8D%E6%95%B8%E5%AD%97.ipynb\" target=\"_parent\"><img src=\"https://colab.research.google.com/assets/colab-badge.svg\" alt=\"Open In Colab\"/></a>"
      ]
    },
    {
      "cell_type": "code",
      "execution_count": 3,
      "metadata": {
        "id": "T4FnzTo6loU8"
      },
      "outputs": [],
      "source": [
        "Q1=26295929"
      ]
    },
    {
      "cell_type": "code",
      "source": [
        "Q2=27668242"
      ],
      "metadata": {
        "id": "mHN7LOtetlEH"
      },
      "execution_count": 4,
      "outputs": []
    },
    {
      "cell_type": "code",
      "source": [
        "Q3=27002293"
      ],
      "metadata": {
        "id": "CCSGUMZ7tnUY"
      },
      "execution_count": 5,
      "outputs": []
    },
    {
      "cell_type": "code",
      "source": [
        "Q4=28347871"
      ],
      "metadata": {
        "id": "du5GOvgCtrvP"
      },
      "execution_count": 15,
      "outputs": []
    },
    {
      "cell_type": "code",
      "source": [
        "ACC1=Q1\n",
        "ACC2=Q1+Q2\n",
        "ACC3=Q1+Q2+Q3\n",
        "ACC4=Q1+Q2+Q3+Q4"
      ],
      "metadata": {
        "id": "uLvj5pLPt0YI"
      },
      "execution_count": 17,
      "outputs": []
    },
    {
      "cell_type": "code",
      "source": [
        "print(ACC1)\n",
        "print(ACC2)\n",
        "print(ACC3)\n",
        "print(ACC4)"
      ],
      "metadata": {
        "colab": {
          "base_uri": "https://localhost:8080/"
        },
        "id": "my_P8PVfubvQ",
        "outputId": "569fb442-f048-4feb-d220-76042a752c57"
      },
      "execution_count": 18,
      "outputs": [
        {
          "output_type": "stream",
          "name": "stdout",
          "text": [
            "26295929\n",
            "53964171\n",
            "80966464\n",
            "109314335\n"
          ]
        }
      ]
    },
    {
      "cell_type": "code",
      "source": [],
      "metadata": {
        "id": "3QxELlQlukOw"
      },
      "execution_count": null,
      "outputs": []
    }
  ]
}